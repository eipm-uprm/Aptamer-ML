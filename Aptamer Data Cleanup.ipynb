{
 "cells": [
  {
   "cell_type": "code",
   "execution_count": 20,
   "metadata": {},
   "outputs": [],
   "source": [
    "import pandas as pd \n",
    "import numpy as np\n",
    "import seaborn as sns"
   ]
  },
  {
   "cell_type": "code",
   "execution_count": 3,
   "metadata": {},
   "outputs": [
    {
     "name": "stdout",
     "output_type": "stream",
     "text": [
      "<bound method NDFrame.head of                                                    Seq  \\\n",
      "0    (\"\\r\\n\\t\\t\\t\\t5'-rGprGprAprGprGpfUprGpfCpfUpfC...   \n",
      "1    (\"\\r\\n\\t\\t\\t\\t5'-rGprGprGprAprAprUprUprCprCprG...   \n",
      "2    (\"\\r\\n\\t\\t\\t\\t5'-rGprGprGprAprGprAprAprUprUprC...   \n",
      "3    (\"\\r\\n\\t\\t\\t\\t5'-rGprGprAprGprCprUprCprAprGprC...   \n",
      "4    (\"\\r\\n\\t\\t\\t\\t5'-dApdTpdApdCpdCpdApdGpdCpdTpdT...   \n",
      "..                                                 ...   \n",
      "501  (\"\\r\\n\\t\\t\\t\\t5'-dCpdGpdGpdTpdGpdCpdApdGpdTpdG...   \n",
      "502  (\"\\r\\n\\t\\t\\t\\t5'-dApdApdGpdGpdApdGpdCpdApdGpdC...   \n",
      "503  (\"\\r\\n\\t\\t\\t\\t5'-dGpdCpdGpdTpdGpdCpdApdGpdCpdA...   \n",
      "504  (\"\\r\\n\\t\\t\\t\\t5'-dTpdApdCpdGpdApdTpdCpdCpdApdG...   \n",
      "505  (\"\\r\\n\\t\\t\\t\\t5'-dGpdApdGpdApdCpdGpdGpdTpdCpdG...   \n",
      "\n",
      "                                                  Type  \n",
      "0    (['Protein                                    ...  \n",
      "1    (['Small Organic                              ...  \n",
      "2    (['Small Organic                              ...  \n",
      "3    (['Small Organic                              ...  \n",
      "4    (['Small Organic                              ...  \n",
      "..                                                 ...  \n",
      "501  (['Protein                                    ...  \n",
      "502  (['Cells                                      ...  \n",
      "503  (['Protein                                    ...  \n",
      "504  (['Small Organic                              ...  \n",
      "505  (['Small Organic                              ...  \n",
      "\n",
      "[506 rows x 2 columns]>\n",
      "(506, 2)\n"
     ]
    }
   ],
   "source": [
    "# Load Aptamer spreadsheet: df1\n",
    "df1 = pd.read_csv('Aptadict4.csv',encoding='latin1')\n",
    "df1.columns = ['Seq','Type']\n",
    "print(df1.head)\n",
    "print(df1.shape)\n"
   ]
  },
  {
   "cell_type": "code",
   "execution_count": 4,
   "metadata": {
    "scrolled": false
   },
   "outputs": [
    {
     "name": "stdout",
     "output_type": "stream",
     "text": [
      "<bound method NDFrame.head of                                                    Seq  \\\n",
      "4    (\"\\r\\n\\t\\t\\t\\t5'-dApdTpdApdCpdCpdApdGpdCpdTpdT...   \n",
      "5    (\"\\r\\n\\t\\t\\t\\t5'-dApdGpdApdTpdGpdCpdCpdTpdGpdT...   \n",
      "8    (\"\\r\\n\\t\\t\\t\\t5'-dApdGpdCpdApdGpdCpdApdCpdApdG...   \n",
      "11   (\"\\r\\n\\t\\t\\t\\t5'-dGpdGpdTpdApdTpdTpdGpdApdGpdG...   \n",
      "12   (\"\\r\\n\\t\\t\\t\\t5'-dCpdTpdApdCpdCpdTpdApdCpdGpdA...   \n",
      "..                                                 ...   \n",
      "497  (\"\\r\\n\\t\\t\\t\\t5'-dApdGpdCpdApdGpdCpdApdCpdApdG...   \n",
      "499  ('\\r\\n\\t\\t\\t\\t5äó»-dCpdApdCpdCpdTpdGpdGpdGpdGp...   \n",
      "501  (\"\\r\\n\\t\\t\\t\\t5'-dCpdGpdGpdTpdGpdCpdApdGpdTpdG...   \n",
      "502  (\"\\r\\n\\t\\t\\t\\t5'-dApdApdGpdGpdApdGpdCpdApdGpdC...   \n",
      "503  (\"\\r\\n\\t\\t\\t\\t5'-dGpdCpdGpdTpdGpdCpdApdGpdCpdA...   \n",
      "\n",
      "                                                  Type  \n",
      "4    (['Small Organic                              ...  \n",
      "5    (['Protein                                    ...  \n",
      "8    (['Protein                                    ...  \n",
      "11   (['Protein                                    ...  \n",
      "12   (['Protein                                    ...  \n",
      "..                                                 ...  \n",
      "497  (['Protein                                    ...  \n",
      "499  (['Protein                                    ...  \n",
      "501  (['Protein                                    ...  \n",
      "502  (['Cells                                      ...  \n",
      "503  (['Protein                                    ...  \n",
      "\n",
      "[238 rows x 2 columns]>\n",
      "(238, 2)\n"
     ]
    }
   ],
   "source": [
    "# Keep only DNA sequences\n",
    "DNA_only = df1[df1['Type'].str.contains('DNA')]\n",
    "\n",
    "print(DNA_only.head)\n",
    "print(DNA_only.shape)\n",
    "\n"
   ]
  },
  {
   "cell_type": "code",
   "execution_count": 5,
   "metadata": {},
   "outputs": [
    {
     "name": "stdout",
     "output_type": "stream",
     "text": [
      "<bound method NDFrame.head of                                                    Seq  \\\n",
      "4    ATACCAGCTTATTCAATTTGAGGCGGGTGGGTGGGTTGAATATGCT...   \n",
      "5    AGATGCCTGTCCAGCATCGAGCGCCAGCTTTGCTGATGGGTGGCCA...   \n",
      "8    AGCAGCACAGAGGTCAGATGTGAAACATAGCATATTTACTTATGTC...   \n",
      "11   GGTATTGAGGGTCGCATCTCAAAAGGGGTGATTGCTTGCACAATGA...   \n",
      "12   CTACCTACGATCTGACTAGCCAAGGTAACCAGTACAAGGTGCTAAA...   \n",
      "..                                                 ...   \n",
      "497  AGCAGCACAGAGGTCAGATGTGGTGCGCAGTGATGTGGTTGGTCCT...   \n",
      "499             CACCTGGGGGAGTATTGCGGAGGAAGGTTCCAGGTGSH   \n",
      "501           CGGTGCAGTGGATACATGCCAGCCGTAGCCATCGTGGATA   \n",
      "502  AAGGAGCAGCGTGGAGGATATACACCGTCATCAGAGGGAGCATCTC...   \n",
      "503            GCGTGCAGCATGACCACCGATGTCACACTTAATGAGAAT   \n",
      "\n",
      "                                                  Type  \n",
      "4    (['Small Organic                              ...  \n",
      "5    (['Protein                                    ...  \n",
      "8    (['Protein                                    ...  \n",
      "11   (['Protein                                    ...  \n",
      "12   (['Protein                                    ...  \n",
      "..                                                 ...  \n",
      "497  (['Protein                                    ...  \n",
      "499  (['Protein                                    ...  \n",
      "501  (['Protein                                    ...  \n",
      "502  (['Cells                                      ...  \n",
      "503  (['Protein                                    ...  \n",
      "\n",
      "[238 rows x 2 columns]>\n",
      "(238, 2)\n"
     ]
    },
    {
     "name": "stderr",
     "output_type": "stream",
     "text": [
      "/Users/francesheredia/anaconda2/envs/Py3/lib/python3.6/site-packages/ipykernel_launcher.py:2: SettingWithCopyWarning: \n",
      "A value is trying to be set on a copy of a slice from a DataFrame.\n",
      "Try using .loc[row_indexer,col_indexer] = value instead\n",
      "\n",
      "See the caveats in the documentation: https://pandas.pydata.org/pandas-docs/stable/user_guide/indexing.html#returning-a-view-versus-a-copy\n",
      "  \n"
     ]
    }
   ],
   "source": [
    "#Remove non-sequence characters\n",
    "DNA_only['Seq'] = DNA_only['Seq'].str.replace(r'[^A-Z ]\\s?',r'',regex=True)\n",
    "\n",
    "print(DNA_only.head)\n",
    "print(DNA_only.shape)\n"
   ]
  },
  {
   "cell_type": "code",
   "execution_count": 6,
   "metadata": {},
   "outputs": [
    {
     "name": "stdout",
     "output_type": "stream",
     "text": [
      "(238, 3)\n",
      "<bound method NDFrame.head of                                                    Seq Seq Type\n",
      "4    ATACCAGCTTATTCAATTTGAGGCGGGTGGGTGGGTTGAATATGCT...  Aptamer\n",
      "5    AGATGCCTGTCCAGCATCGAGCGCCAGCTTTGCTGATGGGTGGCCA...  Aptamer\n",
      "8    AGCAGCACAGAGGTCAGATGTGAAACATAGCATATTTACTTATGTC...  Aptamer\n",
      "11   GGTATTGAGGGTCGCATCTCAAAAGGGGTGATTGCTTGCACAATGA...  Aptamer\n",
      "12   CTACCTACGATCTGACTAGCCAAGGTAACCAGTACAAGGTGCTAAA...  Aptamer\n",
      "..                                                 ...      ...\n",
      "497  AGCAGCACAGAGGTCAGATGTGGTGCGCAGTGATGTGGTTGGTCCT...  Aptamer\n",
      "499             CACCTGGGGGAGTATTGCGGAGGAAGGTTCCAGGTGSH  Aptamer\n",
      "501           CGGTGCAGTGGATACATGCCAGCCGTAGCCATCGTGGATA  Aptamer\n",
      "502  AAGGAGCAGCGTGGAGGATATACACCGTCATCAGAGGGAGCATCTC...  Aptamer\n",
      "503            GCGTGCAGCATGACCACCGATGTCACACTTAATGAGAAT  Aptamer\n",
      "\n",
      "[238 rows x 2 columns]>\n"
     ]
    },
    {
     "name": "stderr",
     "output_type": "stream",
     "text": [
      "/Users/francesheredia/anaconda2/envs/Py3/lib/python3.6/site-packages/ipykernel_launcher.py:1: SettingWithCopyWarning: \n",
      "A value is trying to be set on a copy of a slice from a DataFrame.\n",
      "Try using .loc[row_indexer,col_indexer] = value instead\n",
      "\n",
      "See the caveats in the documentation: https://pandas.pydata.org/pandas-docs/stable/user_guide/indexing.html#returning-a-view-versus-a-copy\n",
      "  \"\"\"Entry point for launching an IPython kernel.\n"
     ]
    }
   ],
   "source": [
    "DNA_only['Seq Type']= 'Aptamer'\n",
    "print(DNA_only.shape)\n",
    "Aptamer_df=DNA_only.loc[:,['Seq','Seq Type']]\n",
    "print(Aptamer_df.head)\n"
   ]
  },
  {
   "cell_type": "code",
   "execution_count": 7,
   "metadata": {},
   "outputs": [
    {
     "name": "stdout",
     "output_type": "stream",
     "text": [
      "(1857, 2) (2403, 2) (1828, 2) (1191, 2) (633, 2) (321, 2)\n"
     ]
    }
   ],
   "source": [
    "df2 = pd.read_csv('NDB_dict1-500.csv', names=['Seq','Seq Type'])\n",
    "df3 = pd.read_csv('NDB_dict501-1000.csv', names=['Seq','Seq Type'])\n",
    "df4 = pd.read_csv('NDB_dict1001-2000.csv', names=['Seq','Seq Type'])\n",
    "df5 = pd.read_csv('NDB_dict2001-3000.csv', names=['Seq','Seq Type'])\n",
    "df6 = pd.read_csv('NDB_dict3001-4000.csv', names=['Seq','Seq Type'])\n",
    "df7 = pd.read_csv('NDB_dict4001-6000.csv', names=['Seq','Seq Type'])\n",
    "print(df7.shape,df6.shape,df5.shape,df4.shape,df3.shape,df2.shape)\n"
   ]
  },
  {
   "cell_type": "code",
   "execution_count": 8,
   "metadata": {},
   "outputs": [
    {
     "name": "stdout",
     "output_type": "stream",
     "text": [
      "(8233, 2)\n"
     ]
    }
   ],
   "source": [
    "#Merge dataframes\n",
    "frames = [df2, df3, df4, df5, df6, df7]\n",
    "\n",
    "DNA_df = pd.concat(frames)\n",
    "print(DNA_df.shape)\n",
    "\n"
   ]
  },
  {
   "cell_type": "code",
   "execution_count": 9,
   "metadata": {},
   "outputs": [
    {
     "name": "stdout",
     "output_type": "stream",
     "text": [
      "<bound method NDFrame.head of                             Seq Seq Type\n",
      "0                        AGCACA      DNA\n",
      "1                      TTGGCGAA      DNA\n",
      "2                   TTTTCATTCAT      DNA\n",
      "3                   CCAGCMGCTGG      DNA\n",
      "4            TCAAGTGORPAGGCATGC      DNA\n",
      "...                         ...      ...\n",
      "1852      GAGCAGCCTGTACGGACATCA      DNA\n",
      "1853        CCTAOGGAGTCCTTCCCCC      DNA\n",
      "1854  AGCTCAAGTACTTAOGGCCBRUGGT      DNA\n",
      "1855                 CTCGAGGTCG      DNA\n",
      "1856               TAGCCTGGTCGA      DNA\n",
      "\n",
      "[8233 rows x 2 columns]>\n"
     ]
    }
   ],
   "source": [
    "DNA_df['Seq'] = DNA_df['Seq'].str.replace(r'[^A-Z ]\\s?',r'',regex=True).replace(r'D',r'',regex=True)\n",
    "DNA_df['Seq Type'] = 'DNA'\n",
    "print(DNA_df.head)"
   ]
  },
  {
   "cell_type": "code",
   "execution_count": 10,
   "metadata": {},
   "outputs": [
    {
     "name": "stdout",
     "output_type": "stream",
     "text": [
      "<bound method NDFrame.head of                         Seq Seq Type\n",
      "0                    AGCACA      DNA\n",
      "1                  TTGGCGAA      DNA\n",
      "2               TTTTCATTCAT      DNA\n",
      "5                      AAAA      DNA\n",
      "7            GCGAGAAACAAAGA      DNA\n",
      "...                     ...      ...\n",
      "1848             TTGCTATTGT      DNA\n",
      "1849                 CAGTAT      DNA\n",
      "1852  GAGCAGCCTGTACGGACATCA      DNA\n",
      "1855             CTCGAGGTCG      DNA\n",
      "1856           TAGCCTGGTCGA      DNA\n",
      "\n",
      "[6227 rows x 2 columns]>\n",
      "(6227, 2)\n"
     ]
    }
   ],
   "source": [
    "#Remove non-native DNA\n",
    "def Native(c):\n",
    "    Nucleotides=['A','C','G','T']\n",
    "    if (c not in Nucleotides):\n",
    "        return False\n",
    "    else:\n",
    "        return True\n",
    "Nat_DNA=DNA_df[~DNA_df.Seq.str.contains('B|D|E|F|H|I|J|K|L|M|N|O|P|Q|R|S|U|V|W|X|Y|X')]\n",
    "print(Nat_DNA.head)\n",
    "print(Nat_DNA.shape)"
   ]
  },
  {
   "cell_type": "code",
   "execution_count": 11,
   "metadata": {},
   "outputs": [
    {
     "name": "stdout",
     "output_type": "stream",
     "text": [
      "(4885, 2)\n",
      "<bound method NDFrame.head of                          Seq Seq Type\n",
      "1                   TTGGCGAA      DNA\n",
      "8         ATGGCTAGCGAAGCTAGA      DNA\n",
      "10    CAAATGCTCCTAACCGACGTTT      DNA\n",
      "12              GAGACCGGTAGC      DNA\n",
      "13    CTTGTTGTTGTTCTCTGGTTCA      DNA\n",
      "...                      ...      ...\n",
      "1848              TTGCTATTGT      DNA\n",
      "1849                  CAGTAT      DNA\n",
      "1852   GAGCAGCCTGTACGGACATCA      DNA\n",
      "1855              CTCGAGGTCG      DNA\n",
      "1856            TAGCCTGGTCGA      DNA\n",
      "\n",
      "[4885 rows x 2 columns]>\n"
     ]
    }
   ],
   "source": [
    "#Remove seq with only one type of nuclotide \n",
    "Var_DNA=Nat_DNA[Nat_DNA.Seq.str.contains('A')&Nat_DNA.Seq.str.contains('C')&Nat_DNA.Seq.str.contains('G')&Nat_DNA.Seq.str.contains('T')]\n",
    "print(Var_DNA.shape)\n",
    "print(Var_DNA.head)\n"
   ]
  },
  {
   "cell_type": "code",
   "execution_count": 12,
   "metadata": {},
   "outputs": [
    {
     "name": "stdout",
     "output_type": "stream",
     "text": [
      "(5123, 2)\n"
     ]
    }
   ],
   "source": [
    "#merge both dfs\n",
    "df=pd.concat([Var_DNA,Aptamer_df])\n",
    "print(df.shape)\n"
   ]
  },
  {
   "cell_type": "code",
   "execution_count": 13,
   "metadata": {},
   "outputs": [
    {
     "name": "stdout",
     "output_type": "stream",
     "text": [
      "(5123, 3)\n",
      "Mean of DNA sequnces lenght 15.44257932446264\n",
      "61.52521008403362\n"
     ]
    }
   ],
   "source": [
    "#calculate length of the sequences \n",
    "df['Seq Len']=df['Seq'].str.len()\n",
    "print(df.shape)\n",
    "print('Mean of DNA sequnces lenght {}'.format(np.mean(df['Seq Len'][df['Seq Type']=='DNA'])))\n",
    "print(np.mean(df['Seq Len'][df['Seq Type']=='Aptamer']))\n"
   ]
  },
  {
   "cell_type": "code",
   "execution_count": 14,
   "metadata": {},
   "outputs": [
    {
     "name": "stdout",
     "output_type": "stream",
     "text": [
      "(5123, 7)\n"
     ]
    }
   ],
   "source": [
    "#nucleotide %\n",
    "df['A_percent']=(df['Seq'].str.count('A')/df['Seq Len'])*100\n",
    "df['C_percent']=(df['Seq'].str.count('C')/df['Seq Len'])*100\n",
    "df['G_percent']=(df['Seq'].str.count('G')/df['Seq Len'])*100\n",
    "df['T_percent']=(df['Seq'].str.count('T')/df['Seq Len'])*100\n",
    "print(df.shape)\n",
    "\n"
   ]
  },
  {
   "cell_type": "code",
   "execution_count": 15,
   "metadata": {},
   "outputs": [
    {
     "name": "stdout",
     "output_type": "stream",
     "text": [
      "                                                   Seq Seq Type  Seq Len  \\\n",
      "497  AGCAGCACAGAGGTCAGATGTGGTGCGCAGTGATGTGGTTGGTCCT...  Aptamer       80   \n",
      "499             CACCTGGGGGAGTATTGCGGAGGAAGGTTCCAGGTGSH  Aptamer       38   \n",
      "501           CGGTGCAGTGGATACATGCCAGCCGTAGCCATCGTGGATA  Aptamer       40   \n",
      "502  AAGGAGCAGCGTGGAGGATATACACCGTCATCAGAGGGAGCATCTC...  Aptamer       85   \n",
      "503            GCGTGCAGCATGACCACCGATGTCACACTTAATGAGAAT  Aptamer       39   \n",
      "\n",
      "     A_percent  C_percent  G_percent  T_percent  A_T ratio  C_G ratio  \\\n",
      "497  18.750000  22.500000  33.750000  25.000000   0.437500   0.562500   \n",
      "499  18.421053  15.789474  42.105263  18.421053   0.368421   0.578947   \n",
      "501  22.500000  25.000000  32.500000  20.000000   0.425000   0.575000   \n",
      "502  24.705882  16.470588  35.294118  23.529412   0.482353   0.517647   \n",
      "503  30.769231  25.641026  23.076923  20.512821   0.512821   0.487179   \n",
      "\n",
      "       Purine  Pyrimidine  \n",
      "497  0.525000    0.475000  \n",
      "499  0.605263    0.342105  \n",
      "501  0.550000    0.450000  \n",
      "502  0.600000    0.400000  \n",
      "503  0.538462    0.461538  \n"
     ]
    }
   ],
   "source": [
    "#Pair ratio\n",
    "df['A_T ratio']=((df['Seq'].str.count('A')+df['Seq'].str.count('T'))/df['Seq Len'])\n",
    "df['C_G ratio']=((df['Seq'].str.count('C')+df['Seq'].str.count('G'))/df['Seq Len'])\n",
    "df['Purine']=((df['Seq'].str.count('A')+df['Seq'].str.count('G'))/df['Seq Len'])\n",
    "df['Pyrimidine']=((df['Seq'].str.count('C')+df['Seq'].str.count('T'))/df['Seq Len'])\n",
    "print(df.tail())"
   ]
  },
  {
   "cell_type": "code",
   "execution_count": 16,
   "metadata": {},
   "outputs": [
    {
     "name": "stdout",
     "output_type": "stream",
     "text": [
      "0.48714545948845217 DNA A_T ratio\n",
      "0.45555867970846486 Aptmer A_T ratio\n",
      "0.5128230469283654 DNA C_G ratio\n",
      "0.5393112222184789 Aptmer C_G ratio\n",
      "24.333777575542246 DNA A_percent\n",
      "20.817861265725703 Aptmer A_percent\n",
      "24.897883516586198 DNA C_percent\n",
      "21.527573465820446 Aptmer C_percent\n",
      "26.384421176250342 DNA G_percent\n",
      "32.403548756027455 Aptmer G_percent\n",
      "24.38076837330297 DNA T_percent\n",
      "24.738006705120778 Aptmer T_percent\n",
      "0.5071819875179259 DNA Purine\n",
      "0.5322141002175315 Aptmer Purine\n",
      "0.49278651889889163 DNA Pyrimidine\n",
      "0.46265580170941223 Aptmer Pyrimidine\n",
      "61.52521008403362\n"
     ]
    }
   ],
   "source": [
    "DNA=df.loc[df['Seq Type']=='DNA']\n",
    "Aptamer=df.loc[df['Seq Type']=='Aptamer']\n",
    "print(DNA['A_T ratio'].mean(), 'DNA A_T ratio')\n",
    "print(Aptamer['A_T ratio'].mean(), 'Aptmer A_T ratio')\n",
    "\n",
    "print(DNA['C_G ratio'].mean(), 'DNA C_G ratio')\n",
    "print(Aptamer['C_G ratio'].mean(), 'Aptmer C_G ratio')\n",
    "\n",
    "print(DNA['A_percent'].mean(), 'DNA A_percent')\n",
    "print(Aptamer['A_percent'].mean(), 'Aptmer A_percent')\n",
    "\n",
    "print(DNA['C_percent'].mean(), 'DNA C_percent')\n",
    "print(Aptamer['C_percent'].mean(), 'Aptmer C_percent')\n",
    "\n",
    "print(DNA['G_percent'].mean(), 'DNA G_percent')\n",
    "print(Aptamer['G_percent'].mean(), 'Aptmer G_percent')\n",
    "\n",
    "print(DNA['T_percent'].mean(), 'DNA T_percent')\n",
    "print(Aptamer['T_percent'].mean(), 'Aptmer T_percent')\n",
    "\n",
    "print(DNA['Purine'].mean(), 'DNA Purine')\n",
    "print(Aptamer['Purine'].mean(), 'Aptmer Purine')\n",
    "\n",
    "print(DNA['Pyrimidine'].mean(), 'DNA Pyrimidine')\n",
    "print(Aptamer['Pyrimidine'].mean(), 'Aptmer Pyrimidine')\n",
    "\n",
    "print(Aptamer['Seq Len'].mean())\n"
   ]
  },
  {
   "cell_type": "code",
   "execution_count": 17,
   "metadata": {},
   "outputs": [
    {
     "data": {
      "image/png": "[encoded data removed]",
      "text/plain": [
       "<Figure size 432x288 with 2 Axes>"
      ]
     },
     "metadata": {
      "needs_background": "light"
     },
     "output_type": "display_data"
    }
   ],
   "source": [
    "import matplotlib.pyplot as plt\n",
    "fig, (ax1, ax2) = plt.subplots(1,2, sharey=True)\n",
    "fig.suptitle('C_G ratio DNA vs Aptamer')\n",
    "df.loc[df['Seq Type']=='DNA'].plot(ax=ax1,y='C_G ratio',kind='box')\n",
    "df.loc[df['Seq Type']=='Aptamer'].plot(ax=ax2,y='C_G ratio',kind='box')\n",
    "plt.show()"
   ]
  },
  {
   "cell_type": "code",
   "execution_count": 18,
   "metadata": {},
   "outputs": [
    {
     "data": {
      "image/png": "[encoded data removed]",
      "text/plain": [
       "<Figure size 1440x1440 with 8 Axes>"
      ]
     },
     "metadata": {
      "needs_background": "light"
     },
     "output_type": "display_data"
    }
   ],
   "source": [
    "import matplotlib.pyplot as plt\n",
    "# Display the box plots on 2 separate rows and 4 column\n",
    "fig, ((ax1,ax2),(ax3,ax4),(ax5,ax6),(ax7,ax8)) = plt.subplots(4,2,sharey=True,figsize=(20,20))\n",
    "\n",
    "# Generate a box plot of the Nucleotide percentages\n",
    "df.loc[df['Seq Type']=='DNA'].plot(ax=ax1,y='A_percent',kind='box').set_title(\"DNA_A_percent\")\n",
    "df.loc[df['Seq Type']=='Aptamer'].plot(ax=ax2,y='A_percent',kind='box').set_title(\"Aptamer_A_percent\")\n",
    "df.loc[df['Seq Type']=='DNA'].plot(ax=ax3,y='C_percent',kind='box').set_title(\"DNA_C_percent\")\n",
    "df.loc[df['Seq Type']=='Aptamer'].plot(ax=ax4,y='C_percent',kind='box').set_title(\"Aptamer_C_percent\")\n",
    "df.loc[df['Seq Type']=='DNA'].plot(ax=ax5,y='G_percent',kind='box').set_title(\"DNA_G_percent\")\n",
    "df.loc[df['Seq Type']=='Aptamer'].plot(ax=ax6,y='G_percent',kind='box').set_title(\"Aptamer_G_percent\")\n",
    "df.loc[df['Seq Type']=='DNA'].plot(ax=ax7,y='T_percent',kind='box').set_title(\"DNA_T_percent\")\n",
    "df.loc[df['Seq Type']=='Aptamer'].plot(ax=ax8,y='T_percent',kind='box').set_title(\"Aptamer_T_percent\")\n",
    "#df.loc[df['Seq Type']=='DNA'].plot(ax=ax9,y='Purine',kind='box').set_title(\"DNA_Purine\")\n",
    "#df.loc[df['Seq Type']=='Aptamer'].plot(ax=ax10,y='Purine',kind='box').set_title(\"Aptamer_Purine\")\n",
    "#df.loc[df['Seq Type']=='DNA'].plot(ax=ax11,y='Pyrimidine',kind='box').set_title(\"DNA_Pyrimidine\")\n",
    "#df.loc[df['Seq Type']=='Aptamer'].plot(ax=ax12,y='Pyrimidine',kind='box').set_title(\"Aptamer_Pyrimidine\")\n",
    "\n",
    "# Display the plot\n",
    "plt.show()\n",
    "\n",
    "\n"
   ]
  },
  {
   "cell_type": "code",
   "execution_count": 53,
   "metadata": {},
   "outputs": [
    {
     "name": "stdout",
     "output_type": "stream",
     "text": [
      "(9,)\n"
     ]
    }
   ],
   "source": [
    "DNA=df.loc[df['Seq Type']=='DNA']\n",
    "Apt=df.loc[df['Seq Type']=='Aptamer']\n",
    "corr = DNA.corrwith(Apt)\n",
    "#cmap = sns.diverging_palette(h_neg=10,h_pos=240,as_cmap=True)\n",
    "#plt.figure(figsize=(20,20))\n",
    "#sns.heatmap(corr, cmap=cmap, center=0, linewidths=1)\n",
    "#plt.savefig('variables-corr')\n",
    "#plt.show()\n",
    "print(corr.shape)"
   ]
  },
  {
   "cell_type": "code",
   "execution_count": 34,
   "metadata": {},
   "outputs": [
    {
     "data": {
      "text/html": [
       "<div>\n",
       "<style scoped>\n",
       "    .dataframe tbody tr th:only-of-type {\n",
       "        vertical-align: middle;\n",
       "    }\n",
       "\n",
       "    .dataframe tbody tr th {\n",
       "        vertical-align: top;\n",
       "    }\n",
       "\n",
       "    .dataframe thead th {\n",
       "        text-align: right;\n",
       "    }\n",
       "</style>\n",
       "<table border=\"1\" class=\"dataframe\">\n",
       "  <thead>\n",
       "    <tr style=\"text-align: right;\">\n",
       "      <th></th>\n",
       "      <th>Seq Len</th>\n",
       "      <th>A_percent</th>\n",
       "      <th>C_percent</th>\n",
       "      <th>G_percent</th>\n",
       "      <th>T_percent</th>\n",
       "      <th>A_T ratio</th>\n",
       "      <th>C_G ratio</th>\n",
       "      <th>Purine</th>\n",
       "      <th>Pyrimidine</th>\n",
       "    </tr>\n",
       "  </thead>\n",
       "  <tbody>\n",
       "    <tr>\n",
       "      <th>count</th>\n",
       "      <td>5123.000000</td>\n",
       "      <td>5123.000000</td>\n",
       "      <td>5123.000000</td>\n",
       "      <td>5123.000000</td>\n",
       "      <td>5123.000000</td>\n",
       "      <td>5123.000000</td>\n",
       "      <td>5123.000000</td>\n",
       "      <td>5123.000000</td>\n",
       "      <td>5123.000000</td>\n",
       "    </tr>\n",
       "    <tr>\n",
       "      <th>mean</th>\n",
       "      <td>17.583447</td>\n",
       "      <td>24.170438</td>\n",
       "      <td>24.741309</td>\n",
       "      <td>26.664053</td>\n",
       "      <td>24.397365</td>\n",
       "      <td>0.485678</td>\n",
       "      <td>0.514054</td>\n",
       "      <td>0.508345</td>\n",
       "      <td>0.491387</td>\n",
       "    </tr>\n",
       "    <tr>\n",
       "      <th>std</th>\n",
       "      <td>12.199893</td>\n",
       "      <td>10.387106</td>\n",
       "      <td>10.316335</td>\n",
       "      <td>11.317674</td>\n",
       "      <td>10.478714</td>\n",
       "      <td>0.149014</td>\n",
       "      <td>0.148930</td>\n",
       "      <td>0.107120</td>\n",
       "      <td>0.107173</td>\n",
       "    </tr>\n",
       "    <tr>\n",
       "      <th>min</th>\n",
       "      <td>4.000000</td>\n",
       "      <td>0.000000</td>\n",
       "      <td>0.000000</td>\n",
       "      <td>4.545455</td>\n",
       "      <td>3.030303</td>\n",
       "      <td>0.100000</td>\n",
       "      <td>0.105263</td>\n",
       "      <td>0.090909</td>\n",
       "      <td>0.100000</td>\n",
       "    </tr>\n",
       "    <tr>\n",
       "      <th>25%</th>\n",
       "      <td>12.000000</td>\n",
       "      <td>16.666667</td>\n",
       "      <td>18.181818</td>\n",
       "      <td>18.181818</td>\n",
       "      <td>16.666667</td>\n",
       "      <td>0.379655</td>\n",
       "      <td>0.409091</td>\n",
       "      <td>0.454545</td>\n",
       "      <td>0.428571</td>\n",
       "    </tr>\n",
       "    <tr>\n",
       "      <th>50%</th>\n",
       "      <td>16.000000</td>\n",
       "      <td>22.727273</td>\n",
       "      <td>25.000000</td>\n",
       "      <td>26.666667</td>\n",
       "      <td>23.076923</td>\n",
       "      <td>0.476190</td>\n",
       "      <td>0.518519</td>\n",
       "      <td>0.500000</td>\n",
       "      <td>0.500000</td>\n",
       "    </tr>\n",
       "    <tr>\n",
       "      <th>75%</th>\n",
       "      <td>22.000000</td>\n",
       "      <td>31.250000</td>\n",
       "      <td>31.818182</td>\n",
       "      <td>33.333333</td>\n",
       "      <td>31.250000</td>\n",
       "      <td>0.590909</td>\n",
       "      <td>0.619048</td>\n",
       "      <td>0.571429</td>\n",
       "      <td>0.545455</td>\n",
       "    </tr>\n",
       "    <tr>\n",
       "      <th>max</th>\n",
       "      <td>132.000000</td>\n",
       "      <td>66.666667</td>\n",
       "      <td>63.636364</td>\n",
       "      <td>81.818182</td>\n",
       "      <td>66.666667</td>\n",
       "      <td>0.894737</td>\n",
       "      <td>0.900000</td>\n",
       "      <td>0.900000</td>\n",
       "      <td>0.909091</td>\n",
       "    </tr>\n",
       "  </tbody>\n",
       "</table>\n",
       "</div>"
      ],
      "text/plain": [
       "           Seq Len    A_percent    C_percent    G_percent    T_percent  \\\n",
       "count  5123.000000  5123.000000  5123.000000  5123.000000  5123.000000   \n",
       "mean     17.583447    24.170438    24.741309    26.664053    24.397365   \n",
       "std      12.199893    10.387106    10.316335    11.317674    10.478714   \n",
       "min       4.000000     0.000000     0.000000     4.545455     3.030303   \n",
       "25%      12.000000    16.666667    18.181818    18.181818    16.666667   \n",
       "50%      16.000000    22.727273    25.000000    26.666667    23.076923   \n",
       "75%      22.000000    31.250000    31.818182    33.333333    31.250000   \n",
       "max     132.000000    66.666667    63.636364    81.818182    66.666667   \n",
       "\n",
       "         A_T ratio    C_G ratio       Purine   Pyrimidine  \n",
       "count  5123.000000  5123.000000  5123.000000  5123.000000  \n",
       "mean      0.485678     0.514054     0.508345     0.491387  \n",
       "std       0.149014     0.148930     0.107120     0.107173  \n",
       "min       0.100000     0.105263     0.090909     0.100000  \n",
       "25%       0.379655     0.409091     0.454545     0.428571  \n",
       "50%       0.476190     0.518519     0.500000     0.500000  \n",
       "75%       0.590909     0.619048     0.571429     0.545455  \n",
       "max       0.894737     0.900000     0.900000     0.909091  "
      ]
     },
     "execution_count": 34,
     "metadata": {},
     "output_type": "execute_result"
    }
   ],
   "source": [
    "#Calculatin Overall Mean and std for all variables:  'Seq Len', 'A_percent', 'C_percent', 'G_percent',\n",
    "      # 'T_percent', 'A_T ratio', 'C_G ratio', 'Purine', 'Pyrimidine'\n",
    "df.describe()"
   ]
  },
  {
   "cell_type": "code",
   "execution_count": 33,
   "metadata": {},
   "outputs": [
    {
     "data": {
      "text/html": [
       "<div>\n",
       "<style scoped>\n",
       "    .dataframe tbody tr th:only-of-type {\n",
       "        vertical-align: middle;\n",
       "    }\n",
       "\n",
       "    .dataframe tbody tr th {\n",
       "        vertical-align: top;\n",
       "    }\n",
       "\n",
       "    .dataframe thead th {\n",
       "        text-align: right;\n",
       "    }\n",
       "</style>\n",
       "<table border=\"1\" class=\"dataframe\">\n",
       "  <thead>\n",
       "    <tr style=\"text-align: right;\">\n",
       "      <th></th>\n",
       "      <th>Seq Len</th>\n",
       "      <th>A_percent</th>\n",
       "      <th>C_percent</th>\n",
       "      <th>G_percent</th>\n",
       "      <th>T_percent</th>\n",
       "      <th>A_T ratio</th>\n",
       "      <th>C_G ratio</th>\n",
       "      <th>Purine</th>\n",
       "      <th>Pyrimidine</th>\n",
       "    </tr>\n",
       "  </thead>\n",
       "  <tbody>\n",
       "    <tr>\n",
       "      <th>count</th>\n",
       "      <td>4885.000000</td>\n",
       "      <td>4885.000000</td>\n",
       "      <td>4885.000000</td>\n",
       "      <td>4885.000000</td>\n",
       "      <td>4885.000000</td>\n",
       "      <td>4885.000000</td>\n",
       "      <td>4885.000000</td>\n",
       "      <td>4885.000000</td>\n",
       "      <td>4885.000000</td>\n",
       "    </tr>\n",
       "    <tr>\n",
       "      <th>mean</th>\n",
       "      <td>15.442579</td>\n",
       "      <td>24.333778</td>\n",
       "      <td>24.897884</td>\n",
       "      <td>26.384421</td>\n",
       "      <td>24.380768</td>\n",
       "      <td>0.487145</td>\n",
       "      <td>0.512823</td>\n",
       "      <td>0.507182</td>\n",
       "      <td>0.492787</td>\n",
       "    </tr>\n",
       "    <tr>\n",
       "      <th>std</th>\n",
       "      <td>4.935355</td>\n",
       "      <td>10.446722</td>\n",
       "      <td>10.374436</td>\n",
       "      <td>11.191935</td>\n",
       "      <td>10.565960</td>\n",
       "      <td>0.150897</td>\n",
       "      <td>0.150899</td>\n",
       "      <td>0.107253</td>\n",
       "      <td>0.107251</td>\n",
       "    </tr>\n",
       "    <tr>\n",
       "      <th>min</th>\n",
       "      <td>4.000000</td>\n",
       "      <td>4.545455</td>\n",
       "      <td>4.545455</td>\n",
       "      <td>4.545455</td>\n",
       "      <td>4.545455</td>\n",
       "      <td>0.100000</td>\n",
       "      <td>0.105263</td>\n",
       "      <td>0.136364</td>\n",
       "      <td>0.100000</td>\n",
       "    </tr>\n",
       "    <tr>\n",
       "      <th>25%</th>\n",
       "      <td>11.000000</td>\n",
       "      <td>16.666667</td>\n",
       "      <td>18.181818</td>\n",
       "      <td>18.181818</td>\n",
       "      <td>16.666667</td>\n",
       "      <td>0.375000</td>\n",
       "      <td>0.409091</td>\n",
       "      <td>0.454545</td>\n",
       "      <td>0.437500</td>\n",
       "    </tr>\n",
       "    <tr>\n",
       "      <th>50%</th>\n",
       "      <td>15.000000</td>\n",
       "      <td>22.727273</td>\n",
       "      <td>25.000000</td>\n",
       "      <td>25.000000</td>\n",
       "      <td>23.076923</td>\n",
       "      <td>0.500000</td>\n",
       "      <td>0.500000</td>\n",
       "      <td>0.500000</td>\n",
       "      <td>0.500000</td>\n",
       "    </tr>\n",
       "    <tr>\n",
       "      <th>75%</th>\n",
       "      <td>21.000000</td>\n",
       "      <td>31.250000</td>\n",
       "      <td>31.818182</td>\n",
       "      <td>33.333333</td>\n",
       "      <td>31.250000</td>\n",
       "      <td>0.590909</td>\n",
       "      <td>0.625000</td>\n",
       "      <td>0.562500</td>\n",
       "      <td>0.545455</td>\n",
       "    </tr>\n",
       "    <tr>\n",
       "      <th>max</th>\n",
       "      <td>25.000000</td>\n",
       "      <td>66.666667</td>\n",
       "      <td>63.636364</td>\n",
       "      <td>70.000000</td>\n",
       "      <td>66.666667</td>\n",
       "      <td>0.894737</td>\n",
       "      <td>0.900000</td>\n",
       "      <td>0.900000</td>\n",
       "      <td>0.863636</td>\n",
       "    </tr>\n",
       "  </tbody>\n",
       "</table>\n",
       "</div>"
      ],
      "text/plain": [
       "           Seq Len    A_percent    C_percent    G_percent    T_percent  \\\n",
       "count  4885.000000  4885.000000  4885.000000  4885.000000  4885.000000   \n",
       "mean     15.442579    24.333778    24.897884    26.384421    24.380768   \n",
       "std       4.935355    10.446722    10.374436    11.191935    10.565960   \n",
       "min       4.000000     4.545455     4.545455     4.545455     4.545455   \n",
       "25%      11.000000    16.666667    18.181818    18.181818    16.666667   \n",
       "50%      15.000000    22.727273    25.000000    25.000000    23.076923   \n",
       "75%      21.000000    31.250000    31.818182    33.333333    31.250000   \n",
       "max      25.000000    66.666667    63.636364    70.000000    66.666667   \n",
       "\n",
       "         A_T ratio    C_G ratio       Purine   Pyrimidine  \n",
       "count  4885.000000  4885.000000  4885.000000  4885.000000  \n",
       "mean      0.487145     0.512823     0.507182     0.492787  \n",
       "std       0.150897     0.150899     0.107253     0.107251  \n",
       "min       0.100000     0.105263     0.136364     0.100000  \n",
       "25%       0.375000     0.409091     0.454545     0.437500  \n",
       "50%       0.500000     0.500000     0.500000     0.500000  \n",
       "75%       0.590909     0.625000     0.562500     0.545455  \n",
       "max       0.894737     0.900000     0.900000     0.863636  "
      ]
     },
     "execution_count": 33,
     "metadata": {},
     "output_type": "execute_result"
    }
   ],
   "source": [
    "#Calculatin DNA Mean and std  for all variables:  'Seq Len', 'A_percent', 'C_percent', 'G_percent',\n",
    "      # 'T_percent', 'A_T ratio', 'C_G ratio', 'Purine', 'Pyrimidine'\n",
    "df[df['Seq Type']=='DNA'].describe()"
   ]
  },
  {
   "cell_type": "code",
   "execution_count": 32,
   "metadata": {},
   "outputs": [
    {
     "data": {
      "text/html": [
       "<div>\n",
       "<style scoped>\n",
       "    .dataframe tbody tr th:only-of-type {\n",
       "        vertical-align: middle;\n",
       "    }\n",
       "\n",
       "    .dataframe tbody tr th {\n",
       "        vertical-align: top;\n",
       "    }\n",
       "\n",
       "    .dataframe thead th {\n",
       "        text-align: right;\n",
       "    }\n",
       "</style>\n",
       "<table border=\"1\" class=\"dataframe\">\n",
       "  <thead>\n",
       "    <tr style=\"text-align: right;\">\n",
       "      <th></th>\n",
       "      <th>Seq Len</th>\n",
       "      <th>A_percent</th>\n",
       "      <th>C_percent</th>\n",
       "      <th>G_percent</th>\n",
       "      <th>T_percent</th>\n",
       "      <th>A_T ratio</th>\n",
       "      <th>C_G ratio</th>\n",
       "      <th>Purine</th>\n",
       "      <th>Pyrimidine</th>\n",
       "    </tr>\n",
       "  </thead>\n",
       "  <tbody>\n",
       "    <tr>\n",
       "      <th>count</th>\n",
       "      <td>238.000000</td>\n",
       "      <td>238.000000</td>\n",
       "      <td>238.000000</td>\n",
       "      <td>238.000000</td>\n",
       "      <td>238.000000</td>\n",
       "      <td>238.000000</td>\n",
       "      <td>238.000000</td>\n",
       "      <td>238.000000</td>\n",
       "      <td>238.000000</td>\n",
       "    </tr>\n",
       "    <tr>\n",
       "      <th>mean</th>\n",
       "      <td>61.525210</td>\n",
       "      <td>20.817861</td>\n",
       "      <td>21.527573</td>\n",
       "      <td>32.403549</td>\n",
       "      <td>24.738007</td>\n",
       "      <td>0.455559</td>\n",
       "      <td>0.539311</td>\n",
       "      <td>0.532214</td>\n",
       "      <td>0.462656</td>\n",
       "    </tr>\n",
       "    <tr>\n",
       "      <th>std</th>\n",
       "      <td>26.099723</td>\n",
       "      <td>8.421090</td>\n",
       "      <td>8.439515</td>\n",
       "      <td>12.339534</td>\n",
       "      <td>8.503384</td>\n",
       "      <td>0.098518</td>\n",
       "      <td>0.097117</td>\n",
       "      <td>0.101673</td>\n",
       "      <td>0.101590</td>\n",
       "    </tr>\n",
       "    <tr>\n",
       "      <th>min</th>\n",
       "      <td>11.000000</td>\n",
       "      <td>0.000000</td>\n",
       "      <td>0.000000</td>\n",
       "      <td>9.090909</td>\n",
       "      <td>3.030303</td>\n",
       "      <td>0.172414</td>\n",
       "      <td>0.250000</td>\n",
       "      <td>0.090909</td>\n",
       "      <td>0.142857</td>\n",
       "    </tr>\n",
       "    <tr>\n",
       "      <th>25%</th>\n",
       "      <td>40.000000</td>\n",
       "      <td>15.207620</td>\n",
       "      <td>16.459419</td>\n",
       "      <td>24.526767</td>\n",
       "      <td>19.093407</td>\n",
       "      <td>0.397304</td>\n",
       "      <td>0.473684</td>\n",
       "      <td>0.466520</td>\n",
       "      <td>0.400000</td>\n",
       "    </tr>\n",
       "    <tr>\n",
       "      <th>50%</th>\n",
       "      <td>61.000000</td>\n",
       "      <td>21.231061</td>\n",
       "      <td>21.151316</td>\n",
       "      <td>30.000000</td>\n",
       "      <td>24.390244</td>\n",
       "      <td>0.458333</td>\n",
       "      <td>0.538048</td>\n",
       "      <td>0.538462</td>\n",
       "      <td>0.458524</td>\n",
       "    </tr>\n",
       "    <tr>\n",
       "      <th>75%</th>\n",
       "      <td>80.000000</td>\n",
       "      <td>26.563215</td>\n",
       "      <td>26.168981</td>\n",
       "      <td>39.304509</td>\n",
       "      <td>28.913916</td>\n",
       "      <td>0.526147</td>\n",
       "      <td>0.600000</td>\n",
       "      <td>0.596065</td>\n",
       "      <td>0.530678</td>\n",
       "    </tr>\n",
       "    <tr>\n",
       "      <th>max</th>\n",
       "      <td>132.000000</td>\n",
       "      <td>44.444444</td>\n",
       "      <td>47.368421</td>\n",
       "      <td>81.818182</td>\n",
       "      <td>63.636364</td>\n",
       "      <td>0.718750</td>\n",
       "      <td>0.827586</td>\n",
       "      <td>0.857143</td>\n",
       "      <td>0.909091</td>\n",
       "    </tr>\n",
       "  </tbody>\n",
       "</table>\n",
       "</div>"
      ],
      "text/plain": [
       "          Seq Len   A_percent   C_percent   G_percent   T_percent   A_T ratio  \\\n",
       "count  238.000000  238.000000  238.000000  238.000000  238.000000  238.000000   \n",
       "mean    61.525210   20.817861   21.527573   32.403549   24.738007    0.455559   \n",
       "std     26.099723    8.421090    8.439515   12.339534    8.503384    0.098518   \n",
       "min     11.000000    0.000000    0.000000    9.090909    3.030303    0.172414   \n",
       "25%     40.000000   15.207620   16.459419   24.526767   19.093407    0.397304   \n",
       "50%     61.000000   21.231061   21.151316   30.000000   24.390244    0.458333   \n",
       "75%     80.000000   26.563215   26.168981   39.304509   28.913916    0.526147   \n",
       "max    132.000000   44.444444   47.368421   81.818182   63.636364    0.718750   \n",
       "\n",
       "        C_G ratio      Purine  Pyrimidine  \n",
       "count  238.000000  238.000000  238.000000  \n",
       "mean     0.539311    0.532214    0.462656  \n",
       "std      0.097117    0.101673    0.101590  \n",
       "min      0.250000    0.090909    0.142857  \n",
       "25%      0.473684    0.466520    0.400000  \n",
       "50%      0.538048    0.538462    0.458524  \n",
       "75%      0.600000    0.596065    0.530678  \n",
       "max      0.827586    0.857143    0.909091  "
      ]
     },
     "execution_count": 32,
     "metadata": {},
     "output_type": "execute_result"
    }
   ],
   "source": [
    "#Calculatin Aptamer Mean and std  for all variables:  'Seq Len', 'A_percent', 'C_percent', 'G_percent',\n",
    "      # 'T_percent', 'A_T ratio', 'C_G ratio', 'Purine', 'Pyrimidine'\n",
    "df[df['Seq Type']=='Aptamer'].describe()\n"
   ]
  },
  {
   "cell_type": "code",
   "execution_count": 29,
   "metadata": {},
   "outputs": [
    {
     "name": "stdout",
     "output_type": "stream",
     "text": [
      "P-value stats for Seq Len: Ttest_indResult(statistic=-93.81649515153725, pvalue=0.0)\n",
      "P-value stats for A_percent: Ttest_indResult(statistic=5.111699533605625, pvalue=3.3088571351766194e-07)\n",
      "P-value stats for C_percent: Ttest_indResult(statistic=4.932759110353848, pvalue=8.364100427821818e-07)\n",
      "P-value stats for G_percent: Ttest_indResult(statistic=-8.06178315469411, pvalue=9.282866445679473e-16)\n",
      "P-value stats for T_percent: Ttest_indResult(statistic=-0.5135437363154026, pvalue=0.6075931801881337)\n",
      "P-value stats for A_T ratio: Ttest_indResult(statistic=3.1961539313393565, pvalue=0.0014011900486218135)\n",
      "P-value stats for C_G ratio: Ttest_indResult(statistic=-2.68096473545703, pvalue=0.007364549517062359)\n",
      "P-value stats for Purine: Ttest_indResult(statistic=-3.5242594065914874, pvalue=0.00042837946949799495)\n",
      "P-value stats for Pyrimidine: Ttest_indResult(statistic=4.2423150403162495, pvalue=2.2513048060932956e-05)\n"
     ]
    }
   ],
   "source": [
    "#Calculatin P-values for all variables:  'Seq Len', 'A_percent', 'C_percent', 'G_percent',\n",
    "      # 'T_percent', 'A_T ratio', 'C_G ratio', 'Purine', 'Pyrimidine'\n",
    "from scipy import stats\n",
    "col_list=['Seq Len', 'A_percent', 'C_percent', 'G_percent','T_percent', 'A_T ratio', 'C_G ratio', 'Purine', 'Pyrimidine']\n",
    "for col in col_list:\n",
    "    popA=df[col][df['Seq Type']=='DNA']\n",
    "    popB=df[col][df['Seq Type']=='Aptamer']\n",
    "    print ('P-value stats for {}: {}'.format(col,stats.ttest_ind(popA,popB)))"
   ]
  },
  {
   "cell_type": "code",
   "execution_count": null,
   "metadata": {},
   "outputs": [],
   "source": [
    "%%script false --no-raise-error\n",
    "sns.pairplot(df, hue=\"Seq Type\", diag_kind='hist')\n",
    "plt.savefig('pairplot')"
   ]
  },
  {
   "cell_type": "code",
   "execution_count": null,
   "metadata": {},
   "outputs": [],
   "source": [
    "%%script false --no-raise-error\n",
    "df.to_csv('Aptamer_vs_DNA_Final.csv',index=False)\n"
   ]
  },
  {
   "cell_type": "code",
   "execution_count": 18,
   "metadata": {},
   "outputs": [
    {
     "name": "stdout",
     "output_type": "stream",
     "text": [
      "Index(['Seq', 'Seq Type', 'Seq Len', 'A_percent', 'C_percent', 'G_percent',\n",
      "       'T_percent', 'A_T ratio', 'C_G ratio', 'Purine', 'Pyrimidine'],\n",
      "      dtype='object')\n"
     ]
    }
   ],
   "source": [
    "print(df.columns)"
   ]
  },
  {
   "cell_type": "code",
   "execution_count": null,
   "metadata": {},
   "outputs": [],
   "source": [
    "'''\n",
    "df[df['year'].isnull()]\n",
    "\n",
    "foo[foo.b.str.match('(f.*)').str.len() > 0]\n",
    "\n",
    "df[df['var1'].str.contains('A|B')]\n",
    "df[df[\"column\"].isin([\"value\"]) == False]\n",
    "df[~df.C.str.contains(\"XYZ\")]\n",
    "\n",
    "\n",
    "'''"
   ]
  },
  {
   "cell_type": "code",
   "execution_count": null,
   "metadata": {},
   "outputs": [],
   "source": []
  }
 ],
 "metadata": {
  "kernelspec": {
   "display_name": "Python 2",
   "language": "python",
   "name": "python2"
  },
  "language_info": {
   "codemirror_mode": {
    "name": "ipython",
    "version": 2
   },
   "file_extension": ".py",
   "mimetype": "text/x-python",
   "name": "python",
   "nbconvert_exporter": "python",
   "pygments_lexer": "ipython2",
   "version": "2.7.18"
  }
 },
 "nbformat": 4,
 "nbformat_minor": 2
}
